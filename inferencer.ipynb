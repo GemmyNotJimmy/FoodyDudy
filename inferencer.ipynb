{
  "nbformat": 4,
  "nbformat_minor": 0,
  "metadata": {
    "colab": {
      "name": "InferencerWorking",
      "provenance": []
    },
    "kernelspec": {
      "name": "python3",
      "display_name": "Python 3"
    },
    "language_info": {
      "name": "python"
    }
  },
  "cells": [
    {
      "cell_type": "code",
      "metadata": {
        "colab": {
          "base_uri": "https://localhost:8080/"
        },
        "id": "udOJuAQlpA48",
        "outputId": "18573a37-0feb-49d8-a35f-0435d7d6a5aa"
      },
      "source": [
        "!pip install torch\n",
        "!pip install -Uqq fastbook\n",
        "import fastbook"
      ],
      "execution_count": 1,
      "outputs": [
        {
          "output_type": "stream",
          "text": [
            "Requirement already satisfied: torch in /usr/local/lib/python3.7/dist-packages (1.8.1+cu101)\n",
            "Requirement already satisfied: typing-extensions in /usr/local/lib/python3.7/dist-packages (from torch) (3.7.4.3)\n",
            "Requirement already satisfied: numpy in /usr/local/lib/python3.7/dist-packages (from torch) (1.19.5)\n",
            "\u001b[K     |████████████████████████████████| 727kB 2.9MB/s \n",
            "\u001b[K     |████████████████████████████████| 51kB 6.3MB/s \n",
            "\u001b[K     |████████████████████████████████| 1.2MB 14.9MB/s \n",
            "\u001b[K     |████████████████████████████████| 204kB 15.6MB/s \n",
            "\u001b[K     |████████████████████████████████| 61kB 6.5MB/s \n",
            "\u001b[K     |████████████████████████████████| 51kB 6.5MB/s \n",
            "\u001b[?25h"
          ],
          "name": "stdout"
        }
      ]
    },
    {
      "cell_type": "code",
      "metadata": {
        "id": "ZYjWaf_upE05"
      },
      "source": [
        "from fastbook import *\n",
        "from google.colab import files\n",
        "from IPython.display import Image\n",
        "from IPython.display import HTML"
      ],
      "execution_count": 2,
      "outputs": []
    },
    {
      "cell_type": "code",
      "metadata": {
        "colab": {
          "base_uri": "https://localhost:8080/"
        },
        "id": "ulkksyeDpHaF",
        "outputId": "13db6f0e-941f-47b5-9e0f-e7783840803b"
      },
      "source": [
        "from google.colab import drive\n",
        "drive.mount('/content/gdrive', force_remount=True)\n",
        "path = Path(\"/content/gdrive/My Drive/FoodyDudyFiles\")\n",
        "path"
      ],
      "execution_count": 3,
      "outputs": [
        {
          "output_type": "stream",
          "text": [
            "Mounted at /content/gdrive\n"
          ],
          "name": "stdout"
        },
        {
          "output_type": "execute_result",
          "data": {
            "text/plain": [
              "Path('/content/gdrive/My Drive/FoodyDudyFiles')"
            ]
          },
          "metadata": {
            "tags": []
          },
          "execution_count": 3
        }
      ]
    },
    {
      "cell_type": "code",
      "metadata": {
        "colab": {
          "base_uri": "https://localhost:8080/"
        },
        "id": "L6eSPrxipH5_",
        "outputId": "91993e77-fb18-4f29-bfc1-e65b3289caf9"
      },
      "source": [
        "path"
      ],
      "execution_count": 4,
      "outputs": [
        {
          "output_type": "execute_result",
          "data": {
            "text/plain": [
              "Path('/content/gdrive/My Drive/FoodyDudyFiles')"
            ]
          },
          "metadata": {
            "tags": []
          },
          "execution_count": 4
        }
      ]
    },
    {
      "cell_type": "code",
      "metadata": {
        "colab": {
          "base_uri": "https://localhost:8080/"
        },
        "id": "v40ptLXFpJ-1",
        "outputId": "a5740d61-eafc-43cc-fa27-45cf561c6d13"
      },
      "source": [
        "path.ls()"
      ],
      "execution_count": 5,
      "outputs": [
        {
          "output_type": "execute_result",
          "data": {
            "text/plain": [
              "(#6) [Path('/content/gdrive/My Drive/FoodyDudyFiles/47thaifood.png'),Path('/content/gdrive/My Drive/FoodyDudyFiles/resnet34-10.pkl'),Path('/content/gdrive/My Drive/FoodyDudyFiles/requirements.txt'),Path('/content/gdrive/My Drive/FoodyDudyFiles/FoodyDudyV1.ipynb'),Path('/content/gdrive/My Drive/FoodyDudyFiles/.gitattributes'),Path('/content/gdrive/My Drive/FoodyDudyFiles/inferencer.ipynb')]"
            ]
          },
          "metadata": {
            "tags": []
          },
          "execution_count": 5
        }
      ]
    },
    {
      "cell_type": "code",
      "metadata": {
        "id": "OQ8aR1kqpMRk"
      },
      "source": [
        "from fastai.vision.all import *\n",
        "from fastai.vision.widgets import *\n",
        "from IPython.display import Image\n",
        "from IPython.display import HTML\n",
        "\n",
        "thaimenu=[\n",
        "\"แกงเขียวหวานไก่\",\"แกงเทโพ\",\"แกงเลียง\",\"แกงจืดเต้าหู้หมูสับ\",\"แกงจืดมะระยัดไส้\",\n",
        "\"แกงมัสมั่นไก่\",\"แกงส้มกุ้ง\",\"ไก่ผัดเม็ดมะม่วงหิมพานต์\",\"ไข่เจียว\",\"ไข่ดาว\",\n",
        "\"ไข่พะโล้\",\"ไข่ลูกเขย\",\"กล้วยบวชชี\",\"ก๋วยเตี๋ยวคั่วไก่\",\"กะหล่ำปลีผัดน้ำปลา\",\n",
        "\"กุ้งแม่น้ำเผา\",\"กุ้งอบวุ้นเส้น\",\"ขนมครก\",\"ข้าวเหนียวมะม่วง\",\"ข้าวขาหมู\",\n",
        "\"ข้าวคลุกกะปิ\",\"ข้าวซอย\",\"ข้าวผัด\",\"ข้าวผัดกุ้ง\",\"ข้าวมันไก่\",\n",
        "\"ข้าวหมกไก่\",\"ต้มข่าไก่\",\"ต้มยำกุ้ง\",\"ทอดมัน\",\"ปอเปี๊ยะทอด\",\n",
        "\"ผักบุ้งไฟแดง\",\"ผัดไท\",\"ผัดกะเพรา\",\"ผัดซีอิ๊วเส้นใหญ่\",\"ผัดฟักทองใส่ไข่\",\n",
        "\"ผัดมะเขือยาวหมูสับ\",\"ผัดหอยลาย\",\"ฝอยทอง\",\"พะแนงไก่\",\"ยำถั่วพู\",\n",
        "\"ยำวุ้นเส้น\",\"ลาบหมู\",\"ส้มตำ\",\"สังขยาฟักทอง\",\"สาคูไส้หมู\",\"หมูปิ้ง\",\"หมูสะเต๊ะ\",\"ห่อหมก\"\n",
        "]\n",
        "\n",
        "learn_inf = load_learner('resnet34-10.pkl', cpu=True)\n",
        "# learn_inf = load_learner('/content/gdrive/MyDrive/FoodyDudyFiles/resnet34-10.pkl', cpu=True)"
      ],
      "execution_count": 7,
      "outputs": []
    },
    {
      "cell_type": "code",
      "metadata": {
        "id": "meHfqCyupOIC"
      },
      "source": [
        ""
      ],
      "execution_count": null,
      "outputs": []
    }
  ]
}