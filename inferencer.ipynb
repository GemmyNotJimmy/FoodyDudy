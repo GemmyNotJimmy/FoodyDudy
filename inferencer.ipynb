{
  "nbformat": 4,
  "nbformat_minor": 0,
  "metadata": {
    "colab": {
      "name": "inferencer.ipynb",
      "provenance": [],
      "collapsed_sections": [],
      "toc_visible": true,
      "machine_shape": "hm"
    },
    "kernelspec": {
      "name": "python3",
      "display_name": "Python 3"
    },
    "language_info": {
      "name": "python"
    },
    "widgets": {
      "application/vnd.jupyter.widget-state+json": {
        "ffd13a560d90494ca4e18910fdef4405": {
          "model_module": "@jupyter-widgets/controls",
          "model_name": "VBoxModel",
          "state": {
            "_view_name": "VBoxView",
            "_dom_classes": [],
            "_model_name": "VBoxModel",
            "_view_module": "@jupyter-widgets/controls",
            "_model_module_version": "1.5.0",
            "_view_count": null,
            "_view_module_version": "1.5.0",
            "box_style": "",
            "layout": "IPY_MODEL_12ffe619e3a54daa9548c3edc88b728f",
            "_model_module": "@jupyter-widgets/controls",
            "children": [
              "IPY_MODEL_1428a70384f1459ba39fe7a81241c700",
              "IPY_MODEL_b37bb2cb8c9a4cd5b8b23d7549ff26a8",
              "IPY_MODEL_f61d4a287caa48a5b9f4b13553a3b1d0",
              "IPY_MODEL_519e83ef6e114c429b57cdda2e3edd99",
              "IPY_MODEL_bf517544661644ab81c3849d30217d76",
              "IPY_MODEL_34f6dad2726b4c9798861bcc4139d1af",
              "IPY_MODEL_a21628c75a9a40b390aa8db9277d06b7",
              "IPY_MODEL_72c0be84206b466f897f1328d331d888"
            ]
          }
        },
        "12ffe619e3a54daa9548c3edc88b728f": {
          "model_module": "@jupyter-widgets/base",
          "model_name": "LayoutModel",
          "state": {
            "_view_name": "LayoutView",
            "grid_template_rows": null,
            "right": null,
            "justify_content": null,
            "_view_module": "@jupyter-widgets/base",
            "overflow": null,
            "_model_module_version": "1.2.0",
            "_view_count": null,
            "flex_flow": null,
            "width": null,
            "min_width": null,
            "border": null,
            "align_items": null,
            "bottom": null,
            "_model_module": "@jupyter-widgets/base",
            "top": null,
            "grid_column": null,
            "overflow_y": null,
            "overflow_x": null,
            "grid_auto_flow": null,
            "grid_area": null,
            "grid_template_columns": null,
            "flex": null,
            "_model_name": "LayoutModel",
            "justify_items": null,
            "grid_row": null,
            "max_height": null,
            "align_content": null,
            "visibility": null,
            "align_self": null,
            "height": null,
            "min_height": null,
            "padding": null,
            "grid_auto_rows": null,
            "grid_gap": null,
            "max_width": null,
            "order": null,
            "_view_module_version": "1.2.0",
            "grid_template_areas": null,
            "object_position": null,
            "object_fit": null,
            "grid_auto_columns": null,
            "margin": null,
            "display": null,
            "left": null
          }
        },
        "1428a70384f1459ba39fe7a81241c700": {
          "model_module": "@jupyter-widgets/controls",
          "model_name": "HTMLModel",
          "state": {
            "_view_name": "HTMLView",
            "style": "IPY_MODEL_8e18f102a70b4e3a9250d3cb3d046a9c",
            "_dom_classes": [],
            "description": "",
            "_model_name": "HTMLModel",
            "placeholder": "​",
            "_view_module": "@jupyter-widgets/controls",
            "_model_module_version": "1.5.0",
            "value": "<H1>รายการอาหารที่ทายได้</H1>",
            "_view_count": null,
            "_view_module_version": "1.5.0",
            "description_tooltip": null,
            "_model_module": "@jupyter-widgets/controls",
            "layout": "IPY_MODEL_b19e2d68af2542e8ad5602c541a9cba9"
          }
        },
        "b37bb2cb8c9a4cd5b8b23d7549ff26a8": {
          "model_module": "@jupyter-widgets/controls",
          "model_name": "ImageModel",
          "state": {
            "_view_name": "ImageView",
            "_dom_classes": [],
            "_model_name": "ImageModel",
            "format": "png",
            "_view_module": "@jupyter-widgets/controls",
            "_model_module_version": "1.5.0",
            "_view_count": null,
            "width": "500",
            "_view_module_version": "1.5.0",
            "layout": "IPY_MODEL_00fad020911f4f119c48e9a95ed21d2f",
            "height": "",
            "_model_module": "@jupyter-widgets/controls"
          }
        },
        "f61d4a287caa48a5b9f4b13553a3b1d0": {
          "model_module": "@jupyter-widgets/controls",
          "model_name": "HTMLModel",
          "state": {
            "_view_name": "HTMLView",
            "style": "IPY_MODEL_46e874c80d274ea8bbd02445a4eb0fb7",
            "_dom_classes": [],
            "description": "",
            "_model_name": "HTMLModel",
            "placeholder": "​",
            "_view_module": "@jupyter-widgets/controls",
            "_model_module_version": "1.5.0",
            "value": "<H1>เลือกรูปภาพอาหารเพื่อทาย</H1>",
            "_view_count": null,
            "_view_module_version": "1.5.0",
            "description_tooltip": null,
            "_model_module": "@jupyter-widgets/controls",
            "layout": "IPY_MODEL_a0530a35898a4789ab138c117e25d17a"
          }
        },
        "519e83ef6e114c429b57cdda2e3edd99": {
          "model_module": "@jupyter-widgets/controls",
          "model_name": "FileUploadModel",
          "state": {
            "_view_name": "FileUploadView",
            "_counter": 3,
            "style": "IPY_MODEL_2ccae333a14944b38a988d97f4571cb5",
            "_dom_classes": [],
            "description": "Upload",
            "multiple": false,
            "_model_name": "FileUploadModel",
            "data": [
              null
            ],
            "button_style": "",
            "_view_module": "@jupyter-widgets/controls",
            "_model_module_version": "1.5.0",
            "accept": "",
            "_view_count": null,
            "disabled": false,
            "_view_module_version": "1.5.0",
            "error": "",
            "description_tooltip": null,
            "metadata": [
              {
                "name": "รูป-หลัก-ของ-สูตร-ไข่พะโล้หมูสามชั้น.jpg",
                "type": "image/jpeg",
                "size": 68193,
                "lastModified": 1621345776480
              }
            ],
            "_model_module": "@jupyter-widgets/controls",
            "layout": "IPY_MODEL_2f0481f81e5f4c3bacd8ba9d7623c952",
            "icon": "upload"
          }
        },
        "bf517544661644ab81c3849d30217d76": {
          "model_module": "@jupyter-widgets/output",
          "model_name": "OutputModel",
          "state": {
            "_view_name": "OutputView",
            "msg_id": "",
            "_dom_classes": [],
            "_model_name": "OutputModel",
            "outputs": [
              {
                "output_type": "display_data",
                "metadata": {
                  "tags": []
                },
                "image/png": "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\n",
                "text/plain": "<PIL.Image.Image image mode=RGB size=256x181 at 0x7F8EAF108B10>"
              }
            ],
            "_view_module": "@jupyter-widgets/output",
            "_model_module_version": "1.0.0",
            "_view_count": null,
            "_view_module_version": "1.0.0",
            "layout": "IPY_MODEL_db90e2448c4a462b8d59b9f412a4c767",
            "_model_module": "@jupyter-widgets/output"
          }
        },
        "34f6dad2726b4c9798861bcc4139d1af": {
          "model_module": "@jupyter-widgets/controls",
          "model_name": "HTMLModel",
          "state": {
            "_view_name": "HTMLView",
            "style": "IPY_MODEL_7472e9c0a82e4ea2b961210fd1eba83c",
            "_dom_classes": [],
            "description": "",
            "_model_name": "HTMLModel",
            "placeholder": "​",
            "_view_module": "@jupyter-widgets/controls",
            "_model_module_version": "1.5.0",
            "value": "<H1>Top#1 ไข่พะโล้ : 76.500%</H1>",
            "_view_count": null,
            "_view_module_version": "1.5.0",
            "description_tooltip": null,
            "_model_module": "@jupyter-widgets/controls",
            "layout": "IPY_MODEL_d38dd7057a644b2ca87c780770e80413"
          }
        },
        "a21628c75a9a40b390aa8db9277d06b7": {
          "model_module": "@jupyter-widgets/controls",
          "model_name": "HTMLModel",
          "state": {
            "_view_name": "HTMLView",
            "style": "IPY_MODEL_fac2985e016e41a8b356195b0b1ea957",
            "_dom_classes": [],
            "description": "",
            "_model_name": "HTMLModel",
            "placeholder": "​",
            "_view_module": "@jupyter-widgets/controls",
            "_model_module_version": "1.5.0",
            "value": "<H1>Top#2 แกงส้มกุ้ง : 13.616%</H1>",
            "_view_count": null,
            "_view_module_version": "1.5.0",
            "description_tooltip": null,
            "_model_module": "@jupyter-widgets/controls",
            "layout": "IPY_MODEL_ee29f970b7014010add2743bf5ba8be3"
          }
        },
        "72c0be84206b466f897f1328d331d888": {
          "model_module": "@jupyter-widgets/controls",
          "model_name": "HTMLModel",
          "state": {
            "_view_name": "HTMLView",
            "style": "IPY_MODEL_919596a358934aaeb2d5912378bf129d",
            "_dom_classes": [],
            "description": "",
            "_model_name": "HTMLModel",
            "placeholder": "​",
            "_view_module": "@jupyter-widgets/controls",
            "_model_module_version": "1.5.0",
            "value": "<H1>Top#3 แกงจืดเต้าหู้หมูสับ : 2.8635%</H1>",
            "_view_count": null,
            "_view_module_version": "1.5.0",
            "description_tooltip": null,
            "_model_module": "@jupyter-widgets/controls",
            "layout": "IPY_MODEL_bb685508b28d48999692dc8a9e53ca69"
          }
        },
        "8e18f102a70b4e3a9250d3cb3d046a9c": {
          "model_module": "@jupyter-widgets/controls",
          "model_name": "DescriptionStyleModel",
          "state": {
            "_view_name": "StyleView",
            "_model_name": "DescriptionStyleModel",
            "description_width": "",
            "_view_module": "@jupyter-widgets/base",
            "_model_module_version": "1.5.0",
            "_view_count": null,
            "_view_module_version": "1.2.0",
            "_model_module": "@jupyter-widgets/controls"
          }
        },
        "b19e2d68af2542e8ad5602c541a9cba9": {
          "model_module": "@jupyter-widgets/base",
          "model_name": "LayoutModel",
          "state": {
            "_view_name": "LayoutView",
            "grid_template_rows": null,
            "right": null,
            "justify_content": null,
            "_view_module": "@jupyter-widgets/base",
            "overflow": null,
            "_model_module_version": "1.2.0",
            "_view_count": null,
            "flex_flow": null,
            "width": null,
            "min_width": null,
            "border": null,
            "align_items": null,
            "bottom": null,
            "_model_module": "@jupyter-widgets/base",
            "top": null,
            "grid_column": null,
            "overflow_y": null,
            "overflow_x": null,
            "grid_auto_flow": null,
            "grid_area": null,
            "grid_template_columns": null,
            "flex": null,
            "_model_name": "LayoutModel",
            "justify_items": null,
            "grid_row": null,
            "max_height": null,
            "align_content": null,
            "visibility": null,
            "align_self": null,
            "height": null,
            "min_height": null,
            "padding": null,
            "grid_auto_rows": null,
            "grid_gap": null,
            "max_width": null,
            "order": null,
            "_view_module_version": "1.2.0",
            "grid_template_areas": null,
            "object_position": null,
            "object_fit": null,
            "grid_auto_columns": null,
            "margin": null,
            "display": null,
            "left": null
          }
        },
        "00fad020911f4f119c48e9a95ed21d2f": {
          "model_module": "@jupyter-widgets/base",
          "model_name": "LayoutModel",
          "state": {
            "_view_name": "LayoutView",
            "grid_template_rows": null,
            "right": null,
            "justify_content": null,
            "_view_module": "@jupyter-widgets/base",
            "overflow": null,
            "_model_module_version": "1.2.0",
            "_view_count": null,
            "flex_flow": null,
            "width": null,
            "min_width": null,
            "border": null,
            "align_items": null,
            "bottom": null,
            "_model_module": "@jupyter-widgets/base",
            "top": null,
            "grid_column": null,
            "overflow_y": null,
            "overflow_x": null,
            "grid_auto_flow": null,
            "grid_area": null,
            "grid_template_columns": null,
            "flex": null,
            "_model_name": "LayoutModel",
            "justify_items": null,
            "grid_row": null,
            "max_height": null,
            "align_content": null,
            "visibility": null,
            "align_self": null,
            "height": null,
            "min_height": null,
            "padding": null,
            "grid_auto_rows": null,
            "grid_gap": null,
            "max_width": null,
            "order": null,
            "_view_module_version": "1.2.0",
            "grid_template_areas": null,
            "object_position": null,
            "object_fit": null,
            "grid_auto_columns": null,
            "margin": null,
            "display": null,
            "left": null
          }
        },
        "46e874c80d274ea8bbd02445a4eb0fb7": {
          "model_module": "@jupyter-widgets/controls",
          "model_name": "DescriptionStyleModel",
          "state": {
            "_view_name": "StyleView",
            "_model_name": "DescriptionStyleModel",
            "description_width": "",
            "_view_module": "@jupyter-widgets/base",
            "_model_module_version": "1.5.0",
            "_view_count": null,
            "_view_module_version": "1.2.0",
            "_model_module": "@jupyter-widgets/controls"
          }
        },
        "a0530a35898a4789ab138c117e25d17a": {
          "model_module": "@jupyter-widgets/base",
          "model_name": "LayoutModel",
          "state": {
            "_view_name": "LayoutView",
            "grid_template_rows": null,
            "right": null,
            "justify_content": null,
            "_view_module": "@jupyter-widgets/base",
            "overflow": null,
            "_model_module_version": "1.2.0",
            "_view_count": null,
            "flex_flow": null,
            "width": null,
            "min_width": null,
            "border": null,
            "align_items": null,
            "bottom": null,
            "_model_module": "@jupyter-widgets/base",
            "top": null,
            "grid_column": null,
            "overflow_y": null,
            "overflow_x": null,
            "grid_auto_flow": null,
            "grid_area": null,
            "grid_template_columns": null,
            "flex": null,
            "_model_name": "LayoutModel",
            "justify_items": null,
            "grid_row": null,
            "max_height": null,
            "align_content": null,
            "visibility": null,
            "align_self": null,
            "height": null,
            "min_height": null,
            "padding": null,
            "grid_auto_rows": null,
            "grid_gap": null,
            "max_width": null,
            "order": null,
            "_view_module_version": "1.2.0",
            "grid_template_areas": null,
            "object_position": null,
            "object_fit": null,
            "grid_auto_columns": null,
            "margin": null,
            "display": null,
            "left": null
          }
        },
        "2ccae333a14944b38a988d97f4571cb5": {
          "model_module": "@jupyter-widgets/controls",
          "model_name": "ButtonStyleModel",
          "state": {
            "_view_name": "StyleView",
            "_model_name": "ButtonStyleModel",
            "_view_module": "@jupyter-widgets/base",
            "_model_module_version": "1.5.0",
            "_view_count": null,
            "button_color": null,
            "font_weight": "",
            "_view_module_version": "1.2.0",
            "_model_module": "@jupyter-widgets/controls"
          }
        },
        "2f0481f81e5f4c3bacd8ba9d7623c952": {
          "model_module": "@jupyter-widgets/base",
          "model_name": "LayoutModel",
          "state": {
            "_view_name": "LayoutView",
            "grid_template_rows": null,
            "right": null,
            "justify_content": null,
            "_view_module": "@jupyter-widgets/base",
            "overflow": null,
            "_model_module_version": "1.2.0",
            "_view_count": null,
            "flex_flow": null,
            "width": null,
            "min_width": null,
            "border": null,
            "align_items": null,
            "bottom": null,
            "_model_module": "@jupyter-widgets/base",
            "top": null,
            "grid_column": null,
            "overflow_y": null,
            "overflow_x": null,
            "grid_auto_flow": null,
            "grid_area": null,
            "grid_template_columns": null,
            "flex": null,
            "_model_name": "LayoutModel",
            "justify_items": null,
            "grid_row": null,
            "max_height": null,
            "align_content": null,
            "visibility": null,
            "align_self": null,
            "height": null,
            "min_height": null,
            "padding": null,
            "grid_auto_rows": null,
            "grid_gap": null,
            "max_width": null,
            "order": null,
            "_view_module_version": "1.2.0",
            "grid_template_areas": null,
            "object_position": null,
            "object_fit": null,
            "grid_auto_columns": null,
            "margin": null,
            "display": null,
            "left": null
          }
        },
        "7472e9c0a82e4ea2b961210fd1eba83c": {
          "model_module": "@jupyter-widgets/controls",
          "model_name": "DescriptionStyleModel",
          "state": {
            "_view_name": "StyleView",
            "_model_name": "DescriptionStyleModel",
            "description_width": "",
            "_view_module": "@jupyter-widgets/base",
            "_model_module_version": "1.5.0",
            "_view_count": null,
            "_view_module_version": "1.2.0",
            "_model_module": "@jupyter-widgets/controls"
          }
        },
        "d38dd7057a644b2ca87c780770e80413": {
          "model_module": "@jupyter-widgets/base",
          "model_name": "LayoutModel",
          "state": {
            "_view_name": "LayoutView",
            "grid_template_rows": null,
            "right": null,
            "justify_content": null,
            "_view_module": "@jupyter-widgets/base",
            "overflow": null,
            "_model_module_version": "1.2.0",
            "_view_count": null,
            "flex_flow": null,
            "width": null,
            "min_width": null,
            "border": null,
            "align_items": null,
            "bottom": null,
            "_model_module": "@jupyter-widgets/base",
            "top": null,
            "grid_column": null,
            "overflow_y": null,
            "overflow_x": null,
            "grid_auto_flow": null,
            "grid_area": null,
            "grid_template_columns": null,
            "flex": null,
            "_model_name": "LayoutModel",
            "justify_items": null,
            "grid_row": null,
            "max_height": null,
            "align_content": null,
            "visibility": null,
            "align_self": null,
            "height": null,
            "min_height": null,
            "padding": null,
            "grid_auto_rows": null,
            "grid_gap": null,
            "max_width": null,
            "order": null,
            "_view_module_version": "1.2.0",
            "grid_template_areas": null,
            "object_position": null,
            "object_fit": null,
            "grid_auto_columns": null,
            "margin": null,
            "display": null,
            "left": null
          }
        },
        "fac2985e016e41a8b356195b0b1ea957": {
          "model_module": "@jupyter-widgets/controls",
          "model_name": "DescriptionStyleModel",
          "state": {
            "_view_name": "StyleView",
            "_model_name": "DescriptionStyleModel",
            "description_width": "",
            "_view_module": "@jupyter-widgets/base",
            "_model_module_version": "1.5.0",
            "_view_count": null,
            "_view_module_version": "1.2.0",
            "_model_module": "@jupyter-widgets/controls"
          }
        },
        "ee29f970b7014010add2743bf5ba8be3": {
          "model_module": "@jupyter-widgets/base",
          "model_name": "LayoutModel",
          "state": {
            "_view_name": "LayoutView",
            "grid_template_rows": null,
            "right": null,
            "justify_content": null,
            "_view_module": "@jupyter-widgets/base",
            "overflow": null,
            "_model_module_version": "1.2.0",
            "_view_count": null,
            "flex_flow": null,
            "width": null,
            "min_width": null,
            "border": null,
            "align_items": null,
            "bottom": null,
            "_model_module": "@jupyter-widgets/base",
            "top": null,
            "grid_column": null,
            "overflow_y": null,
            "overflow_x": null,
            "grid_auto_flow": null,
            "grid_area": null,
            "grid_template_columns": null,
            "flex": null,
            "_model_name": "LayoutModel",
            "justify_items": null,
            "grid_row": null,
            "max_height": null,
            "align_content": null,
            "visibility": null,
            "align_self": null,
            "height": null,
            "min_height": null,
            "padding": null,
            "grid_auto_rows": null,
            "grid_gap": null,
            "max_width": null,
            "order": null,
            "_view_module_version": "1.2.0",
            "grid_template_areas": null,
            "object_position": null,
            "object_fit": null,
            "grid_auto_columns": null,
            "margin": null,
            "display": null,
            "left": null
          }
        },
        "919596a358934aaeb2d5912378bf129d": {
          "model_module": "@jupyter-widgets/controls",
          "model_name": "DescriptionStyleModel",
          "state": {
            "_view_name": "StyleView",
            "_model_name": "DescriptionStyleModel",
            "description_width": "",
            "_view_module": "@jupyter-widgets/base",
            "_model_module_version": "1.5.0",
            "_view_count": null,
            "_view_module_version": "1.2.0",
            "_model_module": "@jupyter-widgets/controls"
          }
        },
        "bb685508b28d48999692dc8a9e53ca69": {
          "model_module": "@jupyter-widgets/base",
          "model_name": "LayoutModel",
          "state": {
            "_view_name": "LayoutView",
            "grid_template_rows": null,
            "right": null,
            "justify_content": null,
            "_view_module": "@jupyter-widgets/base",
            "overflow": null,
            "_model_module_version": "1.2.0",
            "_view_count": null,
            "flex_flow": null,
            "width": null,
            "min_width": null,
            "border": null,
            "align_items": null,
            "bottom": null,
            "_model_module": "@jupyter-widgets/base",
            "top": null,
            "grid_column": null,
            "overflow_y": null,
            "overflow_x": null,
            "grid_auto_flow": null,
            "grid_area": null,
            "grid_template_columns": null,
            "flex": null,
            "_model_name": "LayoutModel",
            "justify_items": null,
            "grid_row": null,
            "max_height": null,
            "align_content": null,
            "visibility": null,
            "align_self": null,
            "height": null,
            "min_height": null,
            "padding": null,
            "grid_auto_rows": null,
            "grid_gap": null,
            "max_width": null,
            "order": null,
            "_view_module_version": "1.2.0",
            "grid_template_areas": null,
            "object_position": null,
            "object_fit": null,
            "grid_auto_columns": null,
            "margin": null,
            "display": null,
            "left": null
          }
        },
        "db90e2448c4a462b8d59b9f412a4c767": {
          "model_module": "@jupyter-widgets/base",
          "model_name": "LayoutModel",
          "state": {
            "_view_name": "LayoutView",
            "grid_template_rows": null,
            "right": null,
            "justify_content": null,
            "_view_module": "@jupyter-widgets/base",
            "overflow": null,
            "_model_module_version": "1.2.0",
            "_view_count": null,
            "flex_flow": null,
            "width": null,
            "min_width": null,
            "border": null,
            "align_items": null,
            "bottom": null,
            "_model_module": "@jupyter-widgets/base",
            "top": null,
            "grid_column": null,
            "overflow_y": null,
            "overflow_x": null,
            "grid_auto_flow": null,
            "grid_area": null,
            "grid_template_columns": null,
            "flex": null,
            "_model_name": "LayoutModel",
            "justify_items": null,
            "grid_row": null,
            "max_height": null,
            "align_content": null,
            "visibility": null,
            "align_self": null,
            "height": null,
            "min_height": null,
            "padding": null,
            "grid_auto_rows": null,
            "grid_gap": null,
            "max_width": null,
            "order": null,
            "_view_module_version": "1.2.0",
            "grid_template_areas": null,
            "object_position": null,
            "object_fit": null,
            "grid_auto_columns": null,
            "margin": null,
            "display": null,
            "left": null
          }
        }
      }
    },
    "accelerator": "GPU"
  },
  "cells": [
    {
      "cell_type": "code",
      "metadata": {
        "id": "FaMA5j5ayZhD"
      },
      "source": [
        "# !pip install torch\n",
        "# # !pip install -Uqq fastbook\n",
        "# !pip install fastbook --upgrade\n",
        "# import fastbook"
      ],
      "execution_count": null,
      "outputs": []
    },
    {
      "cell_type": "code",
      "metadata": {
        "id": "5PIE46XZyfjN"
      },
      "source": [
        "# from fastbook import *\n",
        "# from google.colab import files\n",
        "from IPython.display import Image\n",
        "from IPython.display import HTML"
      ],
      "execution_count": null,
      "outputs": []
    },
    {
      "cell_type": "code",
      "metadata": {
        "colab": {
          "base_uri": "https://localhost:8080/"
        },
        "id": "DzKKgX2AzDk1",
        "outputId": "13867f50-2bfe-4199-fb64-0417888cae71"
      },
      "source": [
        "# from google.colab import drive\n",
        "# drive.mount('/content/gdrive', force_remount=True)"
      ],
      "execution_count": null,
      "outputs": [
        {
          "output_type": "stream",
          "text": [
            "Mounted at /content/gdrive\n"
          ],
          "name": "stdout"
        }
      ]
    },
    {
      "cell_type": "code",
      "metadata": {
        "colab": {
          "base_uri": "https://localhost:8080/",
          "height": 803,
          "referenced_widgets": [
            "ffd13a560d90494ca4e18910fdef4405",
            "12ffe619e3a54daa9548c3edc88b728f",
            "1428a70384f1459ba39fe7a81241c700",
            "b37bb2cb8c9a4cd5b8b23d7549ff26a8",
            "f61d4a287caa48a5b9f4b13553a3b1d0",
            "519e83ef6e114c429b57cdda2e3edd99",
            "bf517544661644ab81c3849d30217d76",
            "34f6dad2726b4c9798861bcc4139d1af",
            "a21628c75a9a40b390aa8db9277d06b7",
            "72c0be84206b466f897f1328d331d888",
            "8e18f102a70b4e3a9250d3cb3d046a9c",
            "b19e2d68af2542e8ad5602c541a9cba9",
            "00fad020911f4f119c48e9a95ed21d2f",
            "46e874c80d274ea8bbd02445a4eb0fb7",
            "a0530a35898a4789ab138c117e25d17a",
            "2ccae333a14944b38a988d97f4571cb5",
            "2f0481f81e5f4c3bacd8ba9d7623c952",
            "7472e9c0a82e4ea2b961210fd1eba83c",
            "d38dd7057a644b2ca87c780770e80413",
            "fac2985e016e41a8b356195b0b1ea957",
            "ee29f970b7014010add2743bf5ba8be3",
            "919596a358934aaeb2d5912378bf129d",
            "bb685508b28d48999692dc8a9e53ca69",
            "db90e2448c4a462b8d59b9f412a4c767"
          ]
        },
        "id": "W4P3T9F-JAaW",
        "outputId": "f7c0e8e0-b9fd-48c2-abde-964717739b61"
      },
      "source": [
        "from fastai.vision.all import *\n",
        "from fastai.vision.widgets import *\n",
        "from IPython.display import Image\n",
        "from IPython.display import HTML\n",
        "\n",
        "thaimenu=[\n",
        "\"แกงเขียวหวานไก่\",\"แกงเทโพ\",\"แกงเลียง\",\"แกงจืดเต้าหู้หมูสับ\",\"แกงจืดมะระยัดไส้\",\n",
        "\"แกงมัสมั่นไก่\",\"แกงส้มกุ้ง\",\"ไก่ผัดเม็ดมะม่วงหิมพานต์\",\"ไข่เจียว\",\"ไข่ดาว\",\n",
        "\"ไข่พะโล้\",\"ไข่ลูกเขย\",\"กล้วยบวชชี\",\"ก๋วยเตี๋ยวคั่วไก่\",\"กะหล่ำปลีผัดน้ำปลา\",\n",
        "\"กุ้งแม่น้ำเผา\",\"กุ้งอบวุ้นเส้น\",\"ขนมครก\",\"ข้าวเหนียวมะม่วง\",\"ข้าวขาหมู\",\n",
        "\"ข้าวคลุกกะปิ\",\"ข้าวซอยไก่\",\"ข้าวผัด\",\"ข้าวผัดกุ้ง\",\"ข้าวมันไก่\",\n",
        "\"ข้าวหมกไก่\",\"ต้มข่าไก่\",\"ต้มยำกุ้ง\",\"ทอดมัน\",\"ปอเปี๊ยะทอด\",\n",
        "\"ผักบุ้งไฟแดง\",\"ผัดไท\",\"ผัดกะเพรา\",\"ผัดซีอิ๊วเส้นใหญ่\",\"ผัดฟักทองใส่ไข่\",\n",
        "\"ผัดมะเขือยาวหมูสับ\",\"ผัดหอยลาย\",\"ฝอยทอง\",\"พะแนงไก่\",\"ยำถั่วพู\",\n",
        "\"ยำวุ้นเส้น\",\"ลาบหมู\",\"สังขยาฟักทอง\",\"สาคูไส้หมู\",\"ส้มตำ\",\"หมูปิ้ง\",\"หมูสะเต๊ะ\",\"ห่อหมก\"\n",
        "]\n",
        "\n",
        "learn_inf = load_learner('resnet34-10-Final.pkl', cpu=True)\n",
        "# learn_inf = load_learner('/content/gdrive/MyDrive/foodydudy/resnet34-10.pkl', cpu=True)\n",
        "\n",
        "file = open(\"47thaifood.png\", \"rb\")\n",
        "# file = open(\"/content/gdrive/MyDrive/foodydudy/images/47thaifood.png\", \"rb\")\n",
        "image2 = file.read()\n",
        "image_headline = widgets.Image(value=image2,format='png',width='500')\n",
        "\n",
        "btn_upload = widgets.FileUpload()\n",
        "out_pl = widgets.Output()\n",
        "lbl_pred = widgets.Label()\n",
        "place1 = widgets.HTML()\n",
        "place2 = widgets.HTML()\n",
        "place3 = widgets.HTML()\n",
        "top1 = widgets.HTML('<H1>รายการอาหารที่ทายได้</H1>')\n",
        "menu_label1 = widgets.HTML('<H1>เลือกรูปภาพอาหารเพื่อทาย</H1>')\n",
        "\n",
        "# image3_result = widgets.Image()\n",
        "\n",
        "file3 = open(\"foodydudygemmy.png\", \"rb\")\n",
        "# file3 = open(\"/content/gdrive/My Drive/foodydudy/foodydudygemmy.png\", \"rb\")\n",
        "# file3 = open(\"./thaimenu/0.png\", \"rb\")\n",
        "image3 = file3.read()\n",
        "image3_result = widgets.Image(value=image3,format='png',width='300')\n",
        "\n",
        "def on_data_change(change):\n",
        "    lbl_pred.value = ''\n",
        "    place1.value = ''\n",
        "    place2.value = ''\n",
        "    place3.value = ''\n",
        "    img = PILImage.create(btn_upload.data[-1])\n",
        "    out_pl.clear_output()\n",
        "    with out_pl: display(img.to_thumb(256,256))\n",
        "    pred,pred_idx,probs = learn_inf.predict(img)\n",
        "\n",
        "    probsdicts = {}\n",
        "    keys = range(len(probs))\n",
        "    values = probs\n",
        "    for i in keys:\n",
        "            probsdicts[i] = values[i]\n",
        "    sort_probsdicts = sorted(probsdicts.items(), key=lambda x: x[1], reverse=True)[:3]\n",
        "\n",
        "    ResultIndex=[0,0,0]\n",
        "    ResultPercent=[0,0,0]\n",
        "    j=0\n",
        "    ResultIndex[0]=10\n",
        "    for i in sort_probsdicts:\n",
        "      ResultIndex[j]=i[0]\n",
        "      x=float(i[1])*100\n",
        "      ResultPercent[j]=x\n",
        "      j+=1\n",
        "\n",
        "    place1.value = \"<H1>Top#1 \" + thaimenu[ResultIndex[0]] + \" : \" + str(ResultPercent[0])[:6] + \"%</H1>\"\n",
        "    place2.value = \"<H1>Top#2 \" + thaimenu[ResultIndex[1]] + \" : \" + str(ResultPercent[1])[:6] + \"%</H1>\"\n",
        "    place3.value = \"<H1>Top#3 \" + thaimenu[ResultIndex[2]] + \" : \" + str(ResultPercent[2])[:6] + \"%</H1>\"\n",
        "    lbl_pred.value = f'Prediction: {pred}; Probability: {probs[pred_idx]:.04f}'\n",
        "\n",
        "    file3 = open(\"./thaimenu/\" + str(int(pred_idx)) + \".png\", \"rb\")\n",
        "    # file3 = open(\"/content/gdrive/My Drive/foodydudy/thaimenu/\" + str(int(pred_idx)) + \".png\", \"rb\")\n",
        "    # file3 = open(\"/content/gdrive/MyDrive/foodydudy/thaimenu/0.png\", \"rb\")\n",
        "    image3 = file3.read()\n",
        "    image3_result.value = image3\n",
        "    image3_result.width = 500\n",
        "    \n",
        "btn_upload.observe(on_data_change, names=['data'])\n",
        "\n",
        "display(VBox([top1, image_headline, menu_label1, btn_upload, out_pl, place1,place2,place3,image3_result]))"
      ],
      "execution_count": null,
      "outputs": [
        {
          "output_type": "display_data",
          "data": {
            "application/vnd.jupyter.widget-view+json": {
              "model_id": "ffd13a560d90494ca4e18910fdef4405",
              "version_minor": 0,
              "version_major": 2
            },
            "text/plain": [
              "VBox(children=(HTML(value='<H1>รายการอาหารที่ทายได้</H1>'), Image(value=b'\\x89PNG\\r\\n\\x1a\\n\\x00\\x00\\x00\\rIHDR\\…"
            ]
          },
          "metadata": {
            "tags": []
          }
        },
        {
          "output_type": "display_data",
          "data": {
            "text/html": [
              ""
            ],
            "text/plain": [
              "<IPython.core.display.HTML object>"
            ]
          },
          "metadata": {
            "tags": []
          }
        },
        {
          "output_type": "display_data",
          "data": {
            "text/html": [
              ""
            ],
            "text/plain": [
              "<IPython.core.display.HTML object>"
            ]
          },
          "metadata": {
            "tags": []
          }
        },
        {
          "output_type": "display_data",
          "data": {
            "text/html": [
              ""
            ],
            "text/plain": [
              "<IPython.core.display.HTML object>"
            ]
          },
          "metadata": {
            "tags": []
          }
        }
      ]
    }
  ]
}